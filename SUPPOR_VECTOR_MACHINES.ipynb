{
 "cells": [
  {
   "cell_type": "code",
   "execution_count": 2,
   "metadata": {},
   "outputs": [],
   "source": [
    "import numpy as np\n",
    "import pandas as pd\n",
    "\n",
    "from sklearn.model_selection import train_test_split\n",
    "from sklearn.model_selection import GridSearchCV\n",
    "from tqdm.notebook import tqdm\n",
    "\n",
    "%run GeoModel.ipynb"
   ]
  },
  {
   "cell_type": "code",
   "execution_count": 3,
   "metadata": {},
   "outputs": [],
   "source": [
    "def scaler(data, min_v, max_v):\n",
    "\n",
    "    return min_v+(((data-data.min())*(max_v-min_v))/(data.max()-data.min()))\n"
   ]
  },
  {
   "cell_type": "code",
   "execution_count": null,
   "metadata": {},
   "outputs": [],
   "source": []
  },
  {
   "cell_type": "markdown",
   "metadata": {},
   "source": [
    "### Support vector machines"
   ]
  },
  {
   "cell_type": "markdown",
   "metadata": {},
   "source": [
    "#### Tuning"
   ]
  },
  {
   "cell_type": "code",
   "execution_count": 4,
   "metadata": {},
   "outputs": [
    {
     "data": {
      "text/html": [
       "<div>\n",
       "<style scoped>\n",
       "    .dataframe tbody tr th:only-of-type {\n",
       "        vertical-align: middle;\n",
       "    }\n",
       "\n",
       "    .dataframe tbody tr th {\n",
       "        vertical-align: top;\n",
       "    }\n",
       "\n",
       "    .dataframe thead th {\n",
       "        text-align: right;\n",
       "    }\n",
       "</style>\n",
       "<table border=\"1\" class=\"dataframe\">\n",
       "  <thead>\n",
       "    <tr style=\"text-align: right;\">\n",
       "      <th></th>\n",
       "      <th>id</th>\n",
       "      <th>relationship</th>\n",
       "      <th>coeficients</th>\n",
       "      <th>trend</th>\n",
       "      <th>surface_level</th>\n",
       "      <th>spatial_autocorrelation</th>\n",
       "      <th>dataset_path</th>\n",
       "      <th>target_path</th>\n",
       "      <th>trend_path</th>\n",
       "    </tr>\n",
       "  </thead>\n",
       "  <tbody>\n",
       "    <tr>\n",
       "      <th>0</th>\n",
       "      <td>0</td>\n",
       "      <td>linear</td>\n",
       "      <td>[[1.5, 0.25], [1.5, -0.25], [-1.5, 0.25], [-1....</td>\n",
       "      <td>none</td>\n",
       "      <td>small</td>\n",
       "      <td>high</td>\n",
       "      <td>dataset-TR_none_rel-linear-lvl_small-sac-high.csv</td>\n",
       "      <td>target-TR_none_rel-linear-lvl_small-sac-high.csv</td>\n",
       "      <td>trend_none.csv</td>\n",
       "    </tr>\n",
       "    <tr>\n",
       "      <th>1</th>\n",
       "      <td>1</td>\n",
       "      <td>linear</td>\n",
       "      <td>[[1.5, 0.25], [1.5, -0.25], [-1.5, 0.25], [-1....</td>\n",
       "      <td>none</td>\n",
       "      <td>small</td>\n",
       "      <td>low</td>\n",
       "      <td>dataset-TR_none_rel-linear-lvl_small-sac-low.csv</td>\n",
       "      <td>target-TR_none_rel-linear-lvl_small-sac-low.csv</td>\n",
       "      <td>trend_none.csv</td>\n",
       "    </tr>\n",
       "    <tr>\n",
       "      <th>2</th>\n",
       "      <td>2</td>\n",
       "      <td>linear</td>\n",
       "      <td>[[1.5, 0.25], [1.5, -0.25], [-1.5, 0.25], [-1....</td>\n",
       "      <td>none</td>\n",
       "      <td>small</td>\n",
       "      <td>none</td>\n",
       "      <td>dataset-TR_none_rel-linear-lvl_small-sac-none.csv</td>\n",
       "      <td>target-TR_none_rel-linear-lvl_small-sac-none.csv</td>\n",
       "      <td>trend_none.csv</td>\n",
       "    </tr>\n",
       "    <tr>\n",
       "      <th>3</th>\n",
       "      <td>3</td>\n",
       "      <td>polynom2</td>\n",
       "      <td>[[2, -1, 0.25], [-2, -1, -0.25], [-2, 1, -0.25...</td>\n",
       "      <td>none</td>\n",
       "      <td>small</td>\n",
       "      <td>high</td>\n",
       "      <td>dataset-TR_none_rel-polynom2-lvl_small-sac-hig...</td>\n",
       "      <td>target-TR_none_rel-polynom2-lvl_small-sac-high...</td>\n",
       "      <td>trend_none.csv</td>\n",
       "    </tr>\n",
       "    <tr>\n",
       "      <th>4</th>\n",
       "      <td>4</td>\n",
       "      <td>polynom2</td>\n",
       "      <td>[[2, -1, 0.25], [-2, -1, -0.25], [-2, 1, -0.25...</td>\n",
       "      <td>none</td>\n",
       "      <td>small</td>\n",
       "      <td>low</td>\n",
       "      <td>dataset-TR_none_rel-polynom2-lvl_small-sac-low...</td>\n",
       "      <td>target-TR_none_rel-polynom2-lvl_small-sac-low.csv</td>\n",
       "      <td>trend_none.csv</td>\n",
       "    </tr>\n",
       "  </tbody>\n",
       "</table>\n",
       "</div>"
      ],
      "text/plain": [
       "   id relationship                                        coeficients trend  \\\n",
       "0   0       linear  [[1.5, 0.25], [1.5, -0.25], [-1.5, 0.25], [-1....  none   \n",
       "1   1       linear  [[1.5, 0.25], [1.5, -0.25], [-1.5, 0.25], [-1....  none   \n",
       "2   2       linear  [[1.5, 0.25], [1.5, -0.25], [-1.5, 0.25], [-1....  none   \n",
       "3   3     polynom2  [[2, -1, 0.25], [-2, -1, -0.25], [-2, 1, -0.25...  none   \n",
       "4   4     polynom2  [[2, -1, 0.25], [-2, -1, -0.25], [-2, 1, -0.25...  none   \n",
       "\n",
       "  surface_level spatial_autocorrelation  \\\n",
       "0         small                    high   \n",
       "1         small                     low   \n",
       "2         small                    none   \n",
       "3         small                    high   \n",
       "4         small                     low   \n",
       "\n",
       "                                        dataset_path  \\\n",
       "0  dataset-TR_none_rel-linear-lvl_small-sac-high.csv   \n",
       "1   dataset-TR_none_rel-linear-lvl_small-sac-low.csv   \n",
       "2  dataset-TR_none_rel-linear-lvl_small-sac-none.csv   \n",
       "3  dataset-TR_none_rel-polynom2-lvl_small-sac-hig...   \n",
       "4  dataset-TR_none_rel-polynom2-lvl_small-sac-low...   \n",
       "\n",
       "                                         target_path      trend_path  \n",
       "0   target-TR_none_rel-linear-lvl_small-sac-high.csv  trend_none.csv  \n",
       "1    target-TR_none_rel-linear-lvl_small-sac-low.csv  trend_none.csv  \n",
       "2   target-TR_none_rel-linear-lvl_small-sac-none.csv  trend_none.csv  \n",
       "3  target-TR_none_rel-polynom2-lvl_small-sac-high...  trend_none.csv  \n",
       "4  target-TR_none_rel-polynom2-lvl_small-sac-low.csv  trend_none.csv  "
      ]
     },
     "execution_count": 4,
     "metadata": {},
     "output_type": "execute_result"
    }
   ],
   "source": [
    "from sklearn.svm import SVR\n",
    "\n",
    "metadata = pd.read_csv('dataset_info.csv')\n",
    "metadata.head()"
   ]
  },
  {
   "cell_type": "code",
   "execution_count": 5,
   "metadata": {},
   "outputs": [],
   "source": [
    "\n",
    "from sklearn.svm import SVR\n",
    "\n",
    "SVM_param_to_test = {'kernel':['linear', 'rbf'], 'C':[0.01, 0.1, 1, 10, 100]}"
   ]
  },
  {
   "cell_type": "code",
   "execution_count": 5,
   "metadata": {},
   "outputs": [
    {
     "data": {
      "application/vnd.jupyter.widget-view+json": {
       "model_id": "1da852ffa87344919c69ee863aab0b67",
       "version_major": 2,
       "version_minor": 0
      },
      "text/plain": [
       "HBox(children=(FloatProgress(value=0.0, max=8.0), HTML(value='')))"
      ]
     },
     "metadata": {},
     "output_type": "display_data"
    },
    {
     "name": "stdout",
     "output_type": "stream",
     "text": [
      "\n"
     ]
    },
    {
     "data": {
      "application/vnd.jupyter.widget-view+json": {
       "model_id": "d9e5f582f3f444c088ff9a481b37cf9e",
       "version_major": 2,
       "version_minor": 0
      },
      "text/plain": [
       "HBox(children=(FloatProgress(value=0.0, max=8.0), HTML(value='')))"
      ]
     },
     "metadata": {},
     "output_type": "display_data"
    },
    {
     "name": "stdout",
     "output_type": "stream",
     "text": [
      "\n"
     ]
    },
    {
     "data": {
      "application/vnd.jupyter.widget-view+json": {
       "model_id": "c17375b2d2154dcca8d0ff34de5cce56",
       "version_major": 2,
       "version_minor": 0
      },
      "text/plain": [
       "HBox(children=(FloatProgress(value=0.0, max=8.0), HTML(value='')))"
      ]
     },
     "metadata": {},
     "output_type": "display_data"
    },
    {
     "name": "stdout",
     "output_type": "stream",
     "text": [
      "\n"
     ]
    },
    {
     "data": {
      "application/vnd.jupyter.widget-view+json": {
       "model_id": "a2aa7b555c3342c1a97419a81ca8101a",
       "version_major": 2,
       "version_minor": 0
      },
      "text/plain": [
       "HBox(children=(FloatProgress(value=0.0, max=8.0), HTML(value='')))"
      ]
     },
     "metadata": {},
     "output_type": "display_data"
    },
    {
     "name": "stdout",
     "output_type": "stream",
     "text": [
      "\n"
     ]
    },
    {
     "data": {
      "application/vnd.jupyter.widget-view+json": {
       "model_id": "4531842b5a084600b9bd9b315a1bdfe5",
       "version_major": 2,
       "version_minor": 0
      },
      "text/plain": [
       "HBox(children=(FloatProgress(value=0.0, max=8.0), HTML(value='')))"
      ]
     },
     "metadata": {},
     "output_type": "display_data"
    },
    {
     "name": "stdout",
     "output_type": "stream",
     "text": [
      "\n"
     ]
    },
    {
     "data": {
      "application/vnd.jupyter.widget-view+json": {
       "model_id": "cfebae2262214c6a87ca58e3f87b599f",
       "version_major": 2,
       "version_minor": 0
      },
      "text/plain": [
       "HBox(children=(FloatProgress(value=0.0, max=8.0), HTML(value='')))"
      ]
     },
     "metadata": {},
     "output_type": "display_data"
    },
    {
     "name": "stdout",
     "output_type": "stream",
     "text": [
      "\n"
     ]
    },
    {
     "data": {
      "application/vnd.jupyter.widget-view+json": {
       "model_id": "e090f35dd24c452c84caadc71b7b9e58",
       "version_major": 2,
       "version_minor": 0
      },
      "text/plain": [
       "HBox(children=(FloatProgress(value=0.0, max=8.0), HTML(value='')))"
      ]
     },
     "metadata": {},
     "output_type": "display_data"
    },
    {
     "name": "stdout",
     "output_type": "stream",
     "text": [
      "\n"
     ]
    },
    {
     "data": {
      "application/vnd.jupyter.widget-view+json": {
       "model_id": "42986a1147454f5aa8e477e047d28be9",
       "version_major": 2,
       "version_minor": 0
      },
      "text/plain": [
       "HBox(children=(FloatProgress(value=0.0, max=8.0), HTML(value='')))"
      ]
     },
     "metadata": {},
     "output_type": "display_data"
    },
    {
     "name": "stdout",
     "output_type": "stream",
     "text": [
      "\n"
     ]
    },
    {
     "data": {
      "application/vnd.jupyter.widget-view+json": {
       "model_id": "d62fa1f41aa449d3a0803653884e9bcb",
       "version_major": 2,
       "version_minor": 0
      },
      "text/plain": [
       "HBox(children=(FloatProgress(value=0.0, max=8.0), HTML(value='')))"
      ]
     },
     "metadata": {},
     "output_type": "display_data"
    },
    {
     "name": "stdout",
     "output_type": "stream",
     "text": [
      "\n"
     ]
    }
   ],
   "source": [
    "%run GeoModel.ipynb\n",
    "\n",
    "for row in metadata.iloc[126:].iterrows():\n",
    "\n",
    "    id_dataset = row[1]['id']\n",
    "\n",
    "    features =  np.genfromtxt(f\"data_features\\\\{row[1]['dataset_path']}\", delimiter=',')\n",
    "    labels = np.genfromtxt(f\"data_labels\\\\{row[1]['target_path']}\", delimiter=',')\n",
    "\n",
    "    X_train, X_test, y_train, y_test = train_test_split(features, labels, test_size=0.2, random_state=42)\n",
    "\n",
    "    c_train = X_train[:, -2:]\n",
    "    c_test = X_test[:, -2:]\n",
    "\n",
    "    X_train = X_train[:, :-2]\n",
    "    X_test = X_test[:, :-2]\n",
    "\n",
    "\n",
    "    # smaller sampling set for tuning of SVR parameters \n",
    "    X_train_t, X_test_t, y_train_t, y_test_t = train_test_split(features, labels, test_size=0.8, random_state=42)\n",
    "\n",
    "    c_train_t = X_train_t[:, -2:]\n",
    "    c_test_t = X_test_t[:, -2:]\n",
    "\n",
    "    X_train_t = X_train_t[:, :-2]\n",
    "    X_test_t = X_test_t[:, :-2]\n",
    "\n",
    "    # without coordinates\n",
    "    SVM = SVR()\n",
    "    clf = GridSearchCV(SVM, SVM_param_to_test)\n",
    "    clf.fit(X_train_t, y_train_t)\n",
    "    best_param_nc = clf.best_params_\n",
    "\n",
    "    # with coordinates\n",
    "    c_train_t_scaled = scaler(c_train_t, -1, 1)\n",
    "    X_train_t_coord = np.hstack((X_train_t, c_train_t_scaled))\n",
    "\n",
    "    SVM = SVR()\n",
    "    clf = GridSearchCV(SVM, SVM_param_to_test)\n",
    "    clf.fit(X_train_t_coord, y_train_t)\n",
    "    best_param_c = clf.best_params_\n",
    "\n",
    "    GSVM = GeographicalModel('SVR', best_param_nc, 'fixed', 'gaussian', [200])\n",
    "    single_bandwidth, best_bandwidth_arr = GSVM.tune(c_train, X_train, y_train, -2, [5,10,15,20,25,30, 35, 40], step=3, limits=True, limits_ind=[20,120,20,120])\n",
    "\n",
    "    single_bandwidth_arr = np.array([single_bandwidth])\n",
    "\n",
    "    np.savetxt(f\"tuningSVM\\\\single_bandwidth\\\\single_bandwidth_id_{id_dataset}.csv\", single_bandwidth_arr, delimiter=\",\")\n",
    "    np.savetxt(f\"tuningSVM\\\\bandwidth\\\\bandwidth_id_{id_dataset}.csv\", best_bandwidth_arr, delimiter=\",\")\n",
    "\n",
    "    with open(f'tuningSVM\\\\paramSVM\\\\params_id_{id_dataset}.txt', 'w') as f:\n",
    "        print(best_param_nc, file=f)\n",
    "    \n",
    "    with open(f'tuningSVM\\\\paramSVM_coord\\\\params_id_{id_dataset}.txt', 'w') as f:\n",
    "        print(best_param_c, file=f)\n",
    "\n",
    "\n"
   ]
  },
  {
   "cell_type": "markdown",
   "metadata": {},
   "source": [
    "#### Without tuning of SVM parameters"
   ]
  },
  {
   "cell_type": "code",
   "execution_count": null,
   "metadata": {},
   "outputs": [],
   "source": []
  },
  {
   "cell_type": "code",
   "execution_count": 1,
   "metadata": {},
   "outputs": [],
   "source": [
    "params = {'kernel':'rbf', 'C':1}"
   ]
  },
  {
   "cell_type": "code",
   "execution_count": 7,
   "metadata": {},
   "outputs": [
    {
     "data": {
      "application/vnd.jupyter.widget-view+json": {
       "model_id": "d478264b24dc4e14ae71406c65c0d9ea",
       "version_major": 2,
       "version_minor": 0
      },
      "text/plain": [
       "HBox(children=(FloatProgress(value=0.0, max=8.0), HTML(value='')))"
      ]
     },
     "metadata": {},
     "output_type": "display_data"
    },
    {
     "name": "stdout",
     "output_type": "stream",
     "text": [
      "\n"
     ]
    },
    {
     "data": {
      "application/vnd.jupyter.widget-view+json": {
       "model_id": "8cdf5336a45c4519b291e65407a514ae",
       "version_major": 2,
       "version_minor": 0
      },
      "text/plain": [
       "HBox(children=(FloatProgress(value=0.0, max=8.0), HTML(value='')))"
      ]
     },
     "metadata": {},
     "output_type": "display_data"
    },
    {
     "name": "stdout",
     "output_type": "stream",
     "text": [
      "\n"
     ]
    },
    {
     "data": {
      "application/vnd.jupyter.widget-view+json": {
       "model_id": "f00d7a5153eb4861975685010a95d6df",
       "version_major": 2,
       "version_minor": 0
      },
      "text/plain": [
       "HBox(children=(FloatProgress(value=0.0, max=8.0), HTML(value='')))"
      ]
     },
     "metadata": {},
     "output_type": "display_data"
    },
    {
     "name": "stdout",
     "output_type": "stream",
     "text": [
      "\n"
     ]
    },
    {
     "data": {
      "application/vnd.jupyter.widget-view+json": {
       "model_id": "8c9a8ddd5fc8476a973179a351f65a42",
       "version_major": 2,
       "version_minor": 0
      },
      "text/plain": [
       "HBox(children=(FloatProgress(value=0.0, max=8.0), HTML(value='')))"
      ]
     },
     "metadata": {},
     "output_type": "display_data"
    },
    {
     "name": "stdout",
     "output_type": "stream",
     "text": [
      "\n"
     ]
    },
    {
     "data": {
      "application/vnd.jupyter.widget-view+json": {
       "model_id": "503627604f7a4e6bbc87713f53500887",
       "version_major": 2,
       "version_minor": 0
      },
      "text/plain": [
       "HBox(children=(FloatProgress(value=0.0, max=8.0), HTML(value='')))"
      ]
     },
     "metadata": {},
     "output_type": "display_data"
    },
    {
     "name": "stdout",
     "output_type": "stream",
     "text": [
      "\n"
     ]
    },
    {
     "data": {
      "application/vnd.jupyter.widget-view+json": {
       "model_id": "28dfe86a84db4b73a17c4a7257b456c8",
       "version_major": 2,
       "version_minor": 0
      },
      "text/plain": [
       "HBox(children=(FloatProgress(value=0.0, max=8.0), HTML(value='')))"
      ]
     },
     "metadata": {},
     "output_type": "display_data"
    },
    {
     "name": "stdout",
     "output_type": "stream",
     "text": [
      "\n"
     ]
    },
    {
     "data": {
      "application/vnd.jupyter.widget-view+json": {
       "model_id": "f94157e1869a4fc384f0e09369aa9fa2",
       "version_major": 2,
       "version_minor": 0
      },
      "text/plain": [
       "HBox(children=(FloatProgress(value=0.0, max=8.0), HTML(value='')))"
      ]
     },
     "metadata": {},
     "output_type": "display_data"
    },
    {
     "name": "stdout",
     "output_type": "stream",
     "text": [
      "\n"
     ]
    },
    {
     "data": {
      "application/vnd.jupyter.widget-view+json": {
       "model_id": "db32510b7aff4bc68904106e6da9e5be",
       "version_major": 2,
       "version_minor": 0
      },
      "text/plain": [
       "HBox(children=(FloatProgress(value=0.0, max=8.0), HTML(value='')))"
      ]
     },
     "metadata": {},
     "output_type": "display_data"
    },
    {
     "name": "stdout",
     "output_type": "stream",
     "text": [
      "\n"
     ]
    },
    {
     "data": {
      "application/vnd.jupyter.widget-view+json": {
       "model_id": "7855aeda9d61432abb7697a68d8ec557",
       "version_major": 2,
       "version_minor": 0
      },
      "text/plain": [
       "HBox(children=(FloatProgress(value=0.0, max=8.0), HTML(value='')))"
      ]
     },
     "metadata": {},
     "output_type": "display_data"
    },
    {
     "name": "stdout",
     "output_type": "stream",
     "text": [
      "\n"
     ]
    },
    {
     "data": {
      "application/vnd.jupyter.widget-view+json": {
       "model_id": "487bb42022cb457eba145380f0c554e7",
       "version_major": 2,
       "version_minor": 0
      },
      "text/plain": [
       "HBox(children=(FloatProgress(value=0.0, max=8.0), HTML(value='')))"
      ]
     },
     "metadata": {},
     "output_type": "display_data"
    },
    {
     "name": "stdout",
     "output_type": "stream",
     "text": [
      "\n"
     ]
    },
    {
     "data": {
      "application/vnd.jupyter.widget-view+json": {
       "model_id": "cb165ad7b51b4cc484f009d63d8d8a67",
       "version_major": 2,
       "version_minor": 0
      },
      "text/plain": [
       "HBox(children=(FloatProgress(value=0.0, max=8.0), HTML(value='')))"
      ]
     },
     "metadata": {},
     "output_type": "display_data"
    },
    {
     "name": "stdout",
     "output_type": "stream",
     "text": [
      "\n"
     ]
    },
    {
     "data": {
      "application/vnd.jupyter.widget-view+json": {
       "model_id": "8ab220b09db94ea1b1d63ad98dd5dd0b",
       "version_major": 2,
       "version_minor": 0
      },
      "text/plain": [
       "HBox(children=(FloatProgress(value=0.0, max=8.0), HTML(value='')))"
      ]
     },
     "metadata": {},
     "output_type": "display_data"
    },
    {
     "name": "stdout",
     "output_type": "stream",
     "text": [
      "\n"
     ]
    },
    {
     "data": {
      "application/vnd.jupyter.widget-view+json": {
       "model_id": "ef6a73cc687b429ca2a6baead6b68a95",
       "version_major": 2,
       "version_minor": 0
      },
      "text/plain": [
       "HBox(children=(FloatProgress(value=0.0, max=8.0), HTML(value='')))"
      ]
     },
     "metadata": {},
     "output_type": "display_data"
    },
    {
     "name": "stdout",
     "output_type": "stream",
     "text": [
      "\n"
     ]
    },
    {
     "data": {
      "application/vnd.jupyter.widget-view+json": {
       "model_id": "7a489a185231461eb6119de15999d220",
       "version_major": 2,
       "version_minor": 0
      },
      "text/plain": [
       "HBox(children=(FloatProgress(value=0.0, max=8.0), HTML(value='')))"
      ]
     },
     "metadata": {},
     "output_type": "display_data"
    },
    {
     "name": "stdout",
     "output_type": "stream",
     "text": [
      "\n"
     ]
    },
    {
     "data": {
      "application/vnd.jupyter.widget-view+json": {
       "model_id": "937741ee1c044a638c7df376a0ef99e0",
       "version_major": 2,
       "version_minor": 0
      },
      "text/plain": [
       "HBox(children=(FloatProgress(value=0.0, max=8.0), HTML(value='')))"
      ]
     },
     "metadata": {},
     "output_type": "display_data"
    },
    {
     "name": "stdout",
     "output_type": "stream",
     "text": [
      "\n"
     ]
    },
    {
     "data": {
      "application/vnd.jupyter.widget-view+json": {
       "model_id": "96e20a0e96844a68880040bbc5724376",
       "version_major": 2,
       "version_minor": 0
      },
      "text/plain": [
       "HBox(children=(FloatProgress(value=0.0, max=8.0), HTML(value='')))"
      ]
     },
     "metadata": {},
     "output_type": "display_data"
    },
    {
     "name": "stdout",
     "output_type": "stream",
     "text": [
      "\n"
     ]
    },
    {
     "data": {
      "application/vnd.jupyter.widget-view+json": {
       "model_id": "7c7ea9d4810e44dca149298fe85615b9",
       "version_major": 2,
       "version_minor": 0
      },
      "text/plain": [
       "HBox(children=(FloatProgress(value=0.0, max=8.0), HTML(value='')))"
      ]
     },
     "metadata": {},
     "output_type": "display_data"
    },
    {
     "name": "stdout",
     "output_type": "stream",
     "text": [
      "\n"
     ]
    },
    {
     "data": {
      "application/vnd.jupyter.widget-view+json": {
       "model_id": "9f4819a3f2574493965a8fbaf43b053f",
       "version_major": 2,
       "version_minor": 0
      },
      "text/plain": [
       "HBox(children=(FloatProgress(value=0.0, max=8.0), HTML(value='')))"
      ]
     },
     "metadata": {},
     "output_type": "display_data"
    },
    {
     "name": "stdout",
     "output_type": "stream",
     "text": [
      "\n"
     ]
    },
    {
     "data": {
      "application/vnd.jupyter.widget-view+json": {
       "model_id": "7a4ab65a41744808aab535ef4cfbc5ba",
       "version_major": 2,
       "version_minor": 0
      },
      "text/plain": [
       "HBox(children=(FloatProgress(value=0.0, max=8.0), HTML(value='')))"
      ]
     },
     "metadata": {},
     "output_type": "display_data"
    },
    {
     "name": "stdout",
     "output_type": "stream",
     "text": [
      "\n"
     ]
    },
    {
     "data": {
      "application/vnd.jupyter.widget-view+json": {
       "model_id": "ef79a1e3bd1b41be9714f1657d7644c8",
       "version_major": 2,
       "version_minor": 0
      },
      "text/plain": [
       "HBox(children=(FloatProgress(value=0.0, max=8.0), HTML(value='')))"
      ]
     },
     "metadata": {},
     "output_type": "display_data"
    },
    {
     "name": "stdout",
     "output_type": "stream",
     "text": [
      "\n"
     ]
    },
    {
     "data": {
      "application/vnd.jupyter.widget-view+json": {
       "model_id": "f8b685d3b1b64196ad6acadc196759e1",
       "version_major": 2,
       "version_minor": 0
      },
      "text/plain": [
       "HBox(children=(FloatProgress(value=0.0, max=8.0), HTML(value='')))"
      ]
     },
     "metadata": {},
     "output_type": "display_data"
    },
    {
     "name": "stdout",
     "output_type": "stream",
     "text": [
      "\n"
     ]
    },
    {
     "data": {
      "application/vnd.jupyter.widget-view+json": {
       "model_id": "9159ce2dbc5e4670b001c0611c1132e3",
       "version_major": 2,
       "version_minor": 0
      },
      "text/plain": [
       "HBox(children=(FloatProgress(value=0.0, max=8.0), HTML(value='')))"
      ]
     },
     "metadata": {},
     "output_type": "display_data"
    },
    {
     "name": "stdout",
     "output_type": "stream",
     "text": [
      "\n"
     ]
    },
    {
     "data": {
      "application/vnd.jupyter.widget-view+json": {
       "model_id": "7d6cd0c320944fa9b35dc94448bbbf68",
       "version_major": 2,
       "version_minor": 0
      },
      "text/plain": [
       "HBox(children=(FloatProgress(value=0.0, max=8.0), HTML(value='')))"
      ]
     },
     "metadata": {},
     "output_type": "display_data"
    },
    {
     "name": "stdout",
     "output_type": "stream",
     "text": [
      "\n"
     ]
    },
    {
     "data": {
      "application/vnd.jupyter.widget-view+json": {
       "model_id": "93d596b7640744fa8f21a445248869c1",
       "version_major": 2,
       "version_minor": 0
      },
      "text/plain": [
       "HBox(children=(FloatProgress(value=0.0, max=8.0), HTML(value='')))"
      ]
     },
     "metadata": {},
     "output_type": "display_data"
    },
    {
     "name": "stdout",
     "output_type": "stream",
     "text": [
      "\n"
     ]
    },
    {
     "data": {
      "application/vnd.jupyter.widget-view+json": {
       "model_id": "a86bbdfe3ba641599fc2e6d25d2ad207",
       "version_major": 2,
       "version_minor": 0
      },
      "text/plain": [
       "HBox(children=(FloatProgress(value=0.0, max=8.0), HTML(value='')))"
      ]
     },
     "metadata": {},
     "output_type": "display_data"
    },
    {
     "name": "stdout",
     "output_type": "stream",
     "text": [
      "\n"
     ]
    },
    {
     "data": {
      "application/vnd.jupyter.widget-view+json": {
       "model_id": "e536f70ac80c4afcb2e94aa9125cd591",
       "version_major": 2,
       "version_minor": 0
      },
      "text/plain": [
       "HBox(children=(FloatProgress(value=0.0, max=8.0), HTML(value='')))"
      ]
     },
     "metadata": {},
     "output_type": "display_data"
    },
    {
     "name": "stdout",
     "output_type": "stream",
     "text": [
      "\n"
     ]
    },
    {
     "data": {
      "application/vnd.jupyter.widget-view+json": {
       "model_id": "45168292388f467f9022797cc9360e65",
       "version_major": 2,
       "version_minor": 0
      },
      "text/plain": [
       "HBox(children=(FloatProgress(value=0.0, max=8.0), HTML(value='')))"
      ]
     },
     "metadata": {},
     "output_type": "display_data"
    },
    {
     "name": "stdout",
     "output_type": "stream",
     "text": [
      "\n"
     ]
    },
    {
     "data": {
      "application/vnd.jupyter.widget-view+json": {
       "model_id": "8fcad2d8af9c48248a73233dc31708ce",
       "version_major": 2,
       "version_minor": 0
      },
      "text/plain": [
       "HBox(children=(FloatProgress(value=0.0, max=8.0), HTML(value='')))"
      ]
     },
     "metadata": {},
     "output_type": "display_data"
    },
    {
     "name": "stdout",
     "output_type": "stream",
     "text": [
      "\n"
     ]
    },
    {
     "data": {
      "application/vnd.jupyter.widget-view+json": {
       "model_id": "b943dfa4b57c40f78dbfcaecb422664b",
       "version_major": 2,
       "version_minor": 0
      },
      "text/plain": [
       "HBox(children=(FloatProgress(value=0.0, max=8.0), HTML(value='')))"
      ]
     },
     "metadata": {},
     "output_type": "display_data"
    },
    {
     "name": "stdout",
     "output_type": "stream",
     "text": [
      "\n"
     ]
    },
    {
     "data": {
      "application/vnd.jupyter.widget-view+json": {
       "model_id": "70f834c16d894f8f9af37da080e52a30",
       "version_major": 2,
       "version_minor": 0
      },
      "text/plain": [
       "HBox(children=(FloatProgress(value=0.0, max=8.0), HTML(value='')))"
      ]
     },
     "metadata": {},
     "output_type": "display_data"
    },
    {
     "name": "stdout",
     "output_type": "stream",
     "text": [
      "\n"
     ]
    }
   ],
   "source": [
    "%run GeoModel.ipynb\n",
    "\n",
    "for row in metadata.iloc[24:54].iterrows():\n",
    "\n",
    "    id_dataset = row[1]['id']\n",
    "\n",
    "    features =  np.genfromtxt(f\"data_features\\\\{row[1]['dataset_path']}\", delimiter=',')\n",
    "    labels = np.genfromtxt(f\"data_labels\\\\{row[1]['target_path']}\", delimiter=',')\n",
    "\n",
    "    X_train, X_test, y_train, y_test = train_test_split(features, labels, test_size=0.2, random_state=42)\n",
    "\n",
    "    c_train = X_train[:, -2:]\n",
    "    c_test = X_test[:, -2:]\n",
    "\n",
    "    X_train = X_train[:, :-2]\n",
    "    X_test = X_test[:, :-2]\n",
    "\n",
    "    params = {'kernel':'rbf', 'C':1}\n",
    "\n",
    "    GSVM = GeographicalModel('SVR', params, 'fixed', 'gaussian', [200])\n",
    "    single_bandwidth, best_bandwidth_arr = GSVM.tune(c_train, X_train, y_train, -2, [5,10,15,20,25,30, 35, 40], step=2, limits=True, limits_ind=[20,120,20,120])\n",
    "\n",
    "    single_bandwidth_arr = np.array([single_bandwidth])\n",
    "\n",
    "    np.savetxt(f\"tuningSVM\\\\single_bandwidth\\\\single_bandwidth_id_{id_dataset}.csv\", single_bandwidth_arr, delimiter=\",\")\n",
    "    np.savetxt(f\"tuningSVM\\\\bandwidth\\\\bandwidth_id_{id_dataset}.csv\", best_bandwidth_arr, delimiter=\",\")\n",
    "\n"
   ]
  },
  {
   "cell_type": "markdown",
   "metadata": {},
   "source": [
    "#### Testing"
   ]
  },
  {
   "cell_type": "markdown",
   "metadata": {},
   "source": [
    "%run GeoModel.ipynb\n",
    "\n"
   ]
  },
  {
   "cell_type": "markdown",
   "metadata": {},
   "source": []
  },
  {
   "cell_type": "code",
   "execution_count": 8,
   "metadata": {},
   "outputs": [
    {
     "data": {
      "application/vnd.jupyter.widget-view+json": {
       "model_id": "2b34dab077c546dba8eb6b3cf1e40312",
       "version_major": 2,
       "version_minor": 0
      },
      "text/plain": [
       "HBox(children=(FloatProgress(value=0.0, max=83.0), HTML(value='')))"
      ]
     },
     "metadata": {},
     "output_type": "display_data"
    },
    {
     "name": "stdout",
     "output_type": "stream",
     "text": [
      "\n"
     ]
    }
   ],
   "source": [
    "%run GeoModel.ipynb\n",
    "\n",
    "for row in tqdm(metadata.iloc[52:].iterrows(), total=len(metadata.iloc[52:])):\n",
    "\n",
    "    # load data\n",
    "    id_dataset = row[1]['id']\n",
    "\n",
    "    features =  np.genfromtxt(f\"data_features\\\\{row[1]['dataset_path']}\", delimiter=',')\n",
    "    labels = np.genfromtxt(f\"data_labels\\\\{row[1]['target_path']}\", delimiter=',')\n",
    "\n",
    "    X_train, X_test, y_train, y_test = train_test_split(features, labels, test_size=0.2, random_state=42)\n",
    "\n",
    "    c_train = X_train[:, -2:]\n",
    "    c_test = X_test[:, -2:]\n",
    "\n",
    "    X_train_nocoord = X_train[:, :-2]\n",
    "    X_test_nocoord = X_test[:, :-2]\n",
    "    \n",
    "\n",
    "    limits_ind = [20,120,20,120]\n",
    "    limits_indx = np.where((c_test[:,0] > limits_ind[0]) & (c_test[:,0] < limits_ind[1])\n",
    "                            & (c_test[:,1] > limits_ind[2]) & (c_test[:,1] < limits_ind[3]))[0]\n",
    "    \n",
    "    c_test_limits = c_test[limits_indx]\n",
    "\n",
    "    c_test_limits_sc = scaler(c_test_limits, -1, 1)\n",
    "    \n",
    "    X_test_nocoord_limits = X_test_nocoord[limits_indx]\n",
    "    X_test_limits = np.hstack((X_test_nocoord_limits, c_test_limits_sc))\n",
    "\n",
    "    bandwidth = np.genfromtxt(f'tuningSVM\\\\bandwidth\\\\bandwidth_id_{id_dataset}.csv', delimiter=',')\n",
    "    # get single bandwidth\n",
    "    single_bandwidth = np.genfromtxt(f'tuningSVM\\\\single_bandwidth\\\\single_bandwidth_id_{id_dataset}.csv', delimiter=',')\n",
    "    single_bandwidth = int(single_bandwidth)\n",
    "\n",
    "    with open(f'tuningSVM\\\\paramSVM_coord\\\\params_id_{id_dataset}.txt') as file:\n",
    "        param_coord =  eval(file.read())\n",
    "\n",
    "    with open(f'tuningSVM\\\\paramSVM\\\\params_id_{id_dataset}.txt') as file:\n",
    "        param =  eval(file.read())\n",
    "\n",
    "    # -------------------------- split for global models\n",
    "        \n",
    "    X_train_split, dummy_x, y_train_split, dummy_y = train_test_split(X_train, y_train, test_size=0.6, random_state=42)\n",
    "    X_train_global, X_test_global, y_train_global, y_test_global = train_test_split(X_train_split, y_train_split, test_size=0.2, random_state=42)\n",
    "\n",
    "    c_train_global = X_train_global[:, -2:]\n",
    "    c_test_global = X_test_global[:, -2:]\n",
    "\n",
    "    X_train_global_nocoord = X_train_global[:, :-2]\n",
    "    X_test_global_nocoord = X_test_global[:, :-2]\n",
    "\n",
    "    c_train_global_scaled = scaler(c_train_global, -1, 1)\n",
    "    c_test_global_scaled = scaler(c_test_global, -1, 1)\n",
    "\n",
    "    X_train_global_coord = np.hstack((X_train_global_nocoord, c_train_global_scaled))\n",
    "    X_test_global_coord = np.hstack((X_test_global_nocoord, c_test_global_scaled))\n",
    "\n",
    "\n",
    "    # train and fit global model\n",
    "    # with coordinates\n",
    "    SVM_coord = SVR(**param_coord)\n",
    "    SVM_coord.fit(X_train_global_coord, y_train_global)\n",
    "    pred_SVM_coord = SVM_coord.predict(X_test_global_coord)\n",
    "    \n",
    "    # without coordinates\n",
    "    SVM_g = SVR(**param)\n",
    "    SVM_g.fit(X_train_global_nocoord, y_train_global)\n",
    "    pred_SVM = SVM_g.predict(X_test_global_nocoord)\n",
    "\n",
    "    GSVM = GeographicalModel('SVR', param, 'fixed', 'gaussian', [200])\n",
    "    # local model\n",
    "    # GRF\n",
    "    GSVM_pred = GSVM.predict(single_bandwidth, 'fixed', 'linear', c_train, X_train_nocoord, y_train, c_test_limits, X_test_nocoord_limits, -2)\n",
    "\n",
    "    # MSGRF\n",
    "    MSGSVM_pred = GSVM.predict(bandwidth, 'fixed', 'linear', c_train, X_train_nocoord, y_train, c_test_limits, X_test_nocoord_limits, -2)\n",
    "\n",
    "    # save results to csv \n",
    "    np.savetxt(f\"testingSVM\\\\SVM_coord\\\\SVM_coord_id_{id_dataset}.csv\", pred_SVM_coord, delimiter=\",\")\n",
    "    np.savetxt(f\"testingSVM\\\\SVM\\\\SVM_id_{id_dataset}.csv\", pred_SVM, delimiter=\",\")\n",
    "    np.savetxt(f\"testingSVM\\\\GSVM\\\\GSVM_id_{id_dataset}.csv\", GSVM_pred, delimiter=\",\")\n",
    "    np.savetxt(f\"testingSVM\\\\MSGSVM\\\\MSGSVM_id_{id_dataset}.csv\", MSGSVM_pred, delimiter=\",\")"
   ]
  },
  {
   "cell_type": "code",
   "execution_count": null,
   "metadata": {},
   "outputs": [],
   "source": []
  }
 ],
 "metadata": {
  "kernelspec": {
   "display_name": "base",
   "language": "python",
   "name": "python3"
  },
  "language_info": {
   "codemirror_mode": {
    "name": "ipython",
    "version": 3
   },
   "file_extension": ".py",
   "mimetype": "text/x-python",
   "name": "python",
   "nbconvert_exporter": "python",
   "pygments_lexer": "ipython3",
   "version": "3.8.3"
  }
 },
 "nbformat": 4,
 "nbformat_minor": 2
}
